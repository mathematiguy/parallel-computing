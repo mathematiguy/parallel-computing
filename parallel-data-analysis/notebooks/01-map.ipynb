{
 "cells": [
  {
   "cell_type": "markdown",
   "metadata": {},
   "source": [
    "Parallel Map on Files\n",
    "------------------------\n",
    "\n",
    "For each of a set of filenames, we parse JSON data contents, load that data into a Pandas DataFrame, and then output the result to another file with a nicer format, HDF5.\n",
    "\n",
    "We find that parsing JSON is slow and so we parallelize the process using the [concurrent.futures](https://docs.python.org/3/library/concurrent.futures.html) module to do this work in multiple processes.\n",
    "\n",
    "### Objectives\n",
    "\n",
    "*  Profile code to find bottleneck\n",
    "*  Use `concurrent.futures` to `map` a function across many inputs in parallel\n",
    "\n",
    "\n",
    "### Requirements\n",
    "\n",
    "*  Pandas\n",
    "*  concurrent.futures (standard in Python 3, `pip install futures` in Python 2)\n",
    "*  snakeviz (for profile visualization, `pip install snakeviz`)\n",
    "\n",
    "\n",
    "    pip install snakeviz\n",
    "    pip install futures"
   ]
  },
  {
   "cell_type": "code",
   "execution_count": 5,
   "metadata": {
    "collapsed": false
   },
   "outputs": [
    {
     "name": "stdout",
     "output_type": "stream",
     "text": [
      "Collecting snakeviz\n",
      "  Downloading snakeviz-0.4.1-py2.py3-none-any.whl (166kB)\n",
      "Requirement already satisfied: tornado>=2.0 in c:\\programdata\\anaconda3\\lib\\site-packages (from snakeviz)\n",
      "Installing collected packages: snakeviz\n",
      "Successfully installed snakeviz-0.4.1\n"
     ]
    }
   ],
   "source": [
    "! pip install snakeviz"
   ]
  },
  {
   "cell_type": "markdown",
   "metadata": {},
   "source": [
    "### Extra Exercise\n",
    "\n",
    "Try out alternative binary formats.  Perhaps try [feather](https://github.com/wesm/feather)."
   ]
  },
  {
   "cell_type": "markdown",
   "metadata": {},
   "source": [
    "## Before we start\n",
    "\n",
    "We need to get some data to work with.\n",
    "We are going to generate some [fake stock data](https://github.com/mrocklin/fakestockdata) by adding a bunch of points between real stock data points. This will take a few minutes the first time we run it."
   ]
  },
  {
   "cell_type": "code",
   "execution_count": 7,
   "metadata": {
    "collapsed": false
   },
   "outputs": [
    {
     "name": "stdout",
     "output_type": "stream",
     "text": [
      "Requirement already satisfied: fakestockdata in c:\\programdata\\anaconda3\\lib\\site-packages\n"
     ]
    }
   ],
   "source": [
    "! pip install fakestockdata"
   ]
  },
  {
   "cell_type": "code",
   "execution_count": 38,
   "metadata": {
    "collapsed": false
   },
   "outputs": [],
   "source": [
    "%run ../prep.py"
   ]
  },
  {
   "cell_type": "markdown",
   "metadata": {},
   "source": [
    "## Sequential Execution"
   ]
  },
  {
   "cell_type": "code",
   "execution_count": 39,
   "metadata": {
    "collapsed": false
   },
   "outputs": [
    {
     "name": "stdout",
     "output_type": "stream",
     "text": [
      "The snakeviz extension is already loaded. To reload it, use:\n",
      "  %reload_ext snakeviz\n"
     ]
    }
   ],
   "source": [
    "%load_ext snakeviz"
   ]
  },
  {
   "cell_type": "code",
   "execution_count": 40,
   "metadata": {
    "collapsed": true
   },
   "outputs": [],
   "source": [
    "from glob import glob\n",
    "import json\n",
    "import pandas as pd\n",
    "import os"
   ]
  },
  {
   "cell_type": "code",
   "execution_count": 41,
   "metadata": {
    "collapsed": false
   },
   "outputs": [
    {
     "data": {
      "text/plain": [
       "['..\\\\data\\\\json\\\\aa.json',\n",
       " '..\\\\data\\\\json\\\\aapl.json',\n",
       " '..\\\\data\\\\json\\\\abc.json',\n",
       " '..\\\\data\\\\json\\\\aig.json',\n",
       " '..\\\\data\\\\json\\\\amgn.json']"
      ]
     },
     "execution_count": 41,
     "metadata": {},
     "output_type": "execute_result"
    }
   ],
   "source": [
    "filenames = sorted(glob(os.path.join('..', 'data', 'json', '*.json')))  # ../data/json/*.json\n",
    "filenames[:5]"
   ]
  },
  {
   "cell_type": "code",
   "execution_count": 42,
   "metadata": {
    "collapsed": false
   },
   "outputs": [
    {
     "name": "stdout",
     "output_type": "stream",
     "text": [
      "..\\data\\json\\aa.json\n",
      "..\\data\\json\\aapl.json\n",
      "..\\data\\json\\abc.json\n",
      "..\\data\\json\\aig.json\n",
      "..\\data\\json\\amgn.json\n",
      "..\\data\\json\\amzn.json\n",
      "..\\data\\json\\bwa.json\n",
      "..\\data\\json\\cost.json\n",
      "..\\data\\json\\csco.json\n",
      "..\\data\\json\\d.json\n",
      "..\\data\\json\\ebay.json\n",
      "..\\data\\json\\emr.json\n",
      "..\\data\\json\\esrx.json\n",
      "..\\data\\json\\gas.json\n",
      "..\\data\\json\\ge.json\n",
      "..\\data\\json\\goog.json\n",
      "..\\data\\json\\hal.json\n",
      "..\\data\\json\\hp.json\n",
      "..\\data\\json\\hpq.json\n",
      "..\\data\\json\\ibm.json\n",
      "..\\data\\json\\jbl.json\n",
      "..\\data\\json\\jpm.json\n",
      "..\\data\\json\\met.json\n",
      "..\\data\\json\\nyx.json\n",
      "..\\data\\json\\pcg.json\n",
      "..\\data\\json\\usb.json\n",
      "..\\data\\json\\vrsn.json\n",
      "..\\data\\json\\yhoo.json\n",
      "..\\data\\json\\zmh.json\n",
      " \n",
      "*** Profile stats marshalled to file 'C:\\\\Users\\\\caleb\\\\AppData\\\\Local\\\\Temp\\\\tmpstxcgp6d'. \n"
     ]
    }
   ],
   "source": [
    "%%snakeviz\n",
    "\n",
    "for fn in filenames:\n",
    "    print(fn)\n",
    "    with open(fn) as f:\n",
    "        data = [json.loads(line) for line in f]\n",
    "        \n",
    "    df = pd.DataFrame(data)\n",
    "    \n",
    "    out_filename = fn[:-5] + '.h5'\n",
    "    df.to_hdf(out_filename, '/data')"
   ]
  },
  {
   "cell_type": "markdown",
   "metadata": {},
   "source": [
    "Parallel Execution\n",
    "--------------------\n",
    "\n",
    "We can process each file independently and in parallel.  To accomplish this we'll transform the body of our for loop into a function and then use the [concurrent.futures.ProcessPoolExecutor](https://docs.python.org/3/library/concurrent.futures.html#executor-objects) to apply that function across all of the filenames in parallel using multiple processes.\n",
    "\n",
    "### Before\n",
    "\n",
    "Whenever we have code like the following:\n",
    "\n",
    "```python\n",
    "results = []\n",
    "for x in L:\n",
    "    results.append(f(x))\n",
    "```\n",
    "\n",
    "or the following:\n",
    "\n",
    "```python\n",
    "results = [f(x) for x in L]\n",
    "```\n",
    "\n",
    "or the following:\n",
    "\n",
    "```python\n",
    "results = list(map(f, x))\n",
    "```\n",
    "\n",
    "### After\n",
    "\n",
    "We can instead write it as the following:\n",
    "\n",
    "```python\n",
    "from concurrent.futures import ProcessPoolExecutor\n",
    "e = ProcessPoolExecutor()\n",
    "\n",
    "results = list(e.map(f, L))\n",
    "```"
   ]
  },
  {
   "cell_type": "markdown",
   "metadata": {},
   "source": [
    "### Example"
   ]
  },
  {
   "cell_type": "code",
   "execution_count": null,
   "metadata": {
    "collapsed": false
   },
   "outputs": [],
   "source": [
    "%%time\n",
    "\n",
    "### Sequential code\n",
    "\n",
    "from time import sleep\n",
    "\n",
    "results = []\n",
    "\n",
    "for i in range(8):\n",
    "    sleep(1)\n",
    "    results.append(i + 1)"
   ]
  },
  {
   "cell_type": "code",
   "execution_count": null,
   "metadata": {
    "collapsed": false
   },
   "outputs": [],
   "source": [
    "%%time\n",
    "\n",
    "### Parallel code\n",
    "\n",
    "from concurrent.futures import ProcessPoolExecutor\n",
    "e = ProcessPoolExecutor()\n",
    "\n",
    "def slowinc(x):\n",
    "    sleep(1)\n",
    "    return x + 1\n",
    "\n",
    "results = list(e.map(slowinc, range(8)))"
   ]
  },
  {
   "cell_type": "markdown",
   "metadata": {},
   "source": [
    "### Exercise:  Convert JSON data to HDF5 in parallel using `concurrent.futures.Executor.map`"
   ]
  },
  {
   "cell_type": "code",
   "execution_count": null,
   "metadata": {
    "collapsed": true
   },
   "outputs": [],
   "source": [
    "import json"
   ]
  },
  {
   "cell_type": "code",
   "execution_count": null,
   "metadata": {
    "collapsed": false
   },
   "outputs": [],
   "source": [
    "%%time\n",
    "\n",
    "### Sequential code\n",
    "\n",
    "for fn in filenames:\n",
    "    with open(fn) as f:\n",
    "        data = [json.loads(line) for line in f]\n",
    "        \n",
    "    df = pd.DataFrame(data)\n",
    "    \n",
    "    out_filename = fn[:-5] + '.h5'\n",
    "    df.to_hdf(out_filename, '/data')"
   ]
  },
  {
   "cell_type": "code",
   "execution_count": null,
   "metadata": {
    "collapsed": false
   },
   "outputs": [],
   "source": [
    "%%time\n",
    "# try replacing %%time with %%snakeviz when everything's working\n",
    "# to get a profile\n",
    "\n",
    "### Parallel code\n",
    "\n",
    "# TODO"
   ]
  },
  {
   "cell_type": "code",
   "execution_count": null,
   "metadata": {
    "collapsed": false
   },
   "outputs": [],
   "source": [
    "%load solutions/map-1.py"
   ]
  },
  {
   "cell_type": "markdown",
   "metadata": {},
   "source": [
    "Try visualizing your parallel version with `%%snakeviz`. Where does it look like it's spending all its time?"
   ]
  },
  {
   "cell_type": "markdown",
   "metadata": {},
   "source": [
    "Parallelism isn't everything\n",
    "--------------------------------\n",
    "\n",
    "We get a moderate increase in performance when using multiple processes.  However parallelism isn't the only way to accelerate this computation.  Recall that the bulk of the cost comes from the `json.loads` function.  A quick internet search on \"fast json parsing in python\" yields the [ujson](https://pypi.python.org/pypi/ujson) library as the top hit.\n",
    "\n",
    "Knowing about and importing the optimized `ujson` library is just as effective as multi-core execution."
   ]
  },
  {
   "cell_type": "code",
   "execution_count": null,
   "metadata": {
    "collapsed": true
   },
   "outputs": [],
   "source": [
    "import ujson"
   ]
  },
  {
   "cell_type": "code",
   "execution_count": null,
   "metadata": {
    "collapsed": false
   },
   "outputs": [],
   "source": [
    "%%snakeviz\n",
    "filenames = sorted(glob(os.path.join('..', 'data', 'json', '*.json')))\n",
    "\n",
    "for fn in filenames:\n",
    "    with open(fn) as f:\n",
    "        data = [ujson.loads(line) for line in f]\n",
    "        \n",
    "    df = pd.DataFrame(data)\n",
    "    \n",
    "    out_filename = fn[:-5] + '.h5'\n",
    "    df.to_hdf(out_filename, '/data')"
   ]
  },
  {
   "cell_type": "markdown",
   "metadata": {},
   "source": [
    "History: multiprocessing.Pool\n",
    "--------------------------------\n",
    "\n",
    "Perviously people have done multi-processing computations with the `multiprocessing.Pool` object, which behaves more or less identically.\n",
    "\n",
    "However, today most library designers are coordinating around the `concurrent.futures` interface, so it's wise to move over."
   ]
  },
  {
   "cell_type": "code",
   "execution_count": null,
   "metadata": {
    "collapsed": false
   },
   "outputs": [],
   "source": [
    "%%time \n",
    "\n",
    "from multiprocessing import Pool\n",
    "p = Pool()\n",
    "\n",
    "list(p.map(load_parse_store, filenames))"
   ]
  },
  {
   "cell_type": "markdown",
   "metadata": {},
   "source": [
    "Conclusion\n",
    "-----------\n",
    "\n",
    "*  Used `snakeviz` to profile code\n",
    "*  Used `concurrent.futures.ProcessPoolExecutor` for simple parallelism across many files\n",
    "    *  Gained some speed boost (but not as much as expected)\n",
    "    *  Lost ability to diagnose performance within parallel code\n",
    "*  Describing each task as a function call helps use tools like map for parallelism\n",
    "*  Saw that other options than parallelism exist to speed up code, including the `ujson` library.\n",
    "*  Making your tasks fast is often at least as important as parallelizing your tasks."
   ]
  }
 ],
 "metadata": {
  "kernelspec": {
   "display_name": "Python 3",
   "language": "python",
   "name": "python3"
  },
  "language_info": {
   "codemirror_mode": {
    "name": "ipython",
    "version": 3
   },
   "file_extension": ".py",
   "mimetype": "text/x-python",
   "name": "python",
   "nbconvert_exporter": "python",
   "pygments_lexer": "ipython3",
   "version": "3.6.0"
  }
 },
 "nbformat": 4,
 "nbformat_minor": 1
}
